{
 "cells": [
  {
   "cell_type": "markdown",
   "id": "8cfc0f48-cb44-4a2a-80d2-aa22449b31af",
   "metadata": {
    "tags": []
   },
   "source": [
    "# Chat Conversations\n",
    "\n",
    "Gemini also has the ability to carry on a conversation, where you can send messages and have a history of replies, so that Gemini can have context.\n"
   ]
  },
  {
   "cell_type": "code",
   "execution_count": 3,
   "id": "fcee58c5-e7a2-41f8-89d4-2b52b8b2ad45",
   "metadata": {},
   "outputs": [],
   "source": [
    "import os\n",
    "from dotenv import load_dotenv\n",
    "load_dotenv()\n",
    "\n",
    "GOOGLE_API_KEY = os.getenv(\"GOOGLE_API_KEY\")"
   ]
  },
  {
   "cell_type": "markdown",
   "id": "c325d3df",
   "metadata": {},
   "source": [
    "Note: The vision model gemini-pro-vision is not optimized for multi-turn chat! Its made more for one-shot questions.\n"
   ]
  },
  {
   "cell_type": "code",
   "execution_count": 4,
   "id": "cebe1227-52ec-4a63-8f26-22f420188026",
   "metadata": {},
   "outputs": [],
   "source": [
    "import google.generativeai as genai\n",
    "genai.configure(api_key=GOOGLE_API_KEY)\n",
    "\n",
    "model = genai.GenerativeModel('gemini-pro')"
   ]
  },
  {
   "cell_type": "markdown",
   "id": "aea70716-5d99-4e26-9f0d-b5f0438e878c",
   "metadata": {},
   "source": [
    "Let's initiate the chat with no historical messages.\n"
   ]
  },
  {
   "cell_type": "code",
   "execution_count": 5,
   "id": "f4d8848f-641b-4f21-b421-39a922ee4eac",
   "metadata": {},
   "outputs": [],
   "source": [
    "chat = model.start_chat()"
   ]
  },
  {
   "cell_type": "code",
   "execution_count": 6,
   "id": "b27e0874",
   "metadata": {},
   "outputs": [
    {
     "data": {
      "text/plain": [
       "google.generativeai.generative_models.ChatSession"
      ]
     },
     "execution_count": 6,
     "metadata": {},
     "output_type": "execute_result"
    }
   ],
   "source": [
    "type(chat)"
   ]
  },
  {
   "cell_type": "markdown",
   "id": "488d66ea-55c8-4583-bb5f-e319bb49dc3d",
   "metadata": {},
   "source": [
    "Sending a message can be achieved using `response = chat.send_message(message)`\n"
   ]
  },
  {
   "cell_type": "code",
   "execution_count": 7,
   "id": "a525d90c-89f1-445a-889d-b506da76153f",
   "metadata": {},
   "outputs": [],
   "source": [
    "response = chat.send_message(\n",
    "    \"Hi! I'm planning a trip to Paris, could you help me plan some activities?\")"
   ]
  },
  {
   "cell_type": "code",
   "execution_count": 8,
   "id": "7c5690ee-5697-48f0-a3f7-4d7f638b6b6e",
   "metadata": {},
   "outputs": [
    {
     "name": "stdout",
     "output_type": "stream",
     "text": [
      "1. **Visit the Eiffel Tower:**\n",
      "   - Take a lift to the top for a breathtaking view of Paris.\n",
      "   - See the tower's unique architecture and ironwork up close.\n",
      "   - Enjoy a meal at one of the tower's restaurants or cafes.\n",
      "\n",
      "2. **Visit the Louvre Museum:**\n",
      "   - Admire the world-famous Mona Lisa by Leonardo da Vinci.\n",
      "   - See other masterpieces like the Venus de Milo and Winged Victory of Samothrace.\n",
      "   - Explore the museum's vast collection of ancient Egyptian, Greek, and Roman art.\n",
      "\n",
      "3. **Take a Seine River Cruise:**\n",
      "   - Enjoy a relaxing boat ride along the river and admire the iconic sights of Paris.\n",
      "   - Pass by landmarks like the Louvre, the Eiffel Tower, and Notre Dame Cathedral.\n",
      "   - Enjoy a romantic dinner cruise or a Seine river cruise with live music.\n",
      "\n",
      "4. **Visit the Arc de Triomphe:**\n",
      "   - Climb to the top of the arch for panoramic views of the Champs-Élysées and the city.\n",
      "   - See the Tomb of the Unknown Soldier beneath the arch.\n",
      "   - Admire the intricate carvings on the arch, including scenes from French history.\n",
      "\n",
      "5. **Visit the Palace of Versailles:**\n",
      "   - Explore the opulent palace, once home to French kings and queens.\n",
      "   - Wander through the grand Hall of Mirrors and the King's Apartments.\n",
      "   - See the beautiful gardens designed by André Le Nôtre.\n",
      "\n",
      "6. **Explore the Latin Quarter:**\n",
      "   - Stroll through the charming streets and admire the medieval architecture.\n",
      "   - Visit Sorbonne University, the oldest university in Paris.\n",
      "   - Enjoy a coffee or a meal at one of the many cafes and restaurants in the area.\n",
      "\n",
      "7. **Visit the Père Lachaise Cemetery:**\n",
      "   - Pay your respects at the graves of famous figures like Jim Morrison, Oscar Wilde, and Edith Piaf.\n",
      "   - Explore the intricate and beautiful gravestones and sculptures.\n",
      "   - Take a guided tour of the cemetery to learn more about its history and famous residents.\n",
      "\n",
      "8. **See a Show at the Moulin Rouge:**\n",
      "   - Enjoy a spectacular cabaret show featuring the famous can-can dancers.\n",
      "   - Admire the elaborate costumes and sets.\n",
      "   - Have dinner and drinks while watching the show.\n",
      "\n",
      "9. **Visit the Château de Vincennes:**\n",
      "   - Explore the medieval castle, one of the best-preserved in France.\n",
      "   - See the royal apartments, the Sainte-Chapelle, and the donjon tower.\n",
      "   - Take a walk in the surrounding Bois de Vincennes park.\n",
      "\n",
      "10. **Visit the Parc des Buttes-Chaumont:**\n",
      "    - Explore this beautiful park in the northeast of Paris.\n",
      "    - See the artificial lake, the waterfalls, and the grottoes.\n",
      "    - Enjoy a picnic or a stroll through the park's gardens.\n"
     ]
    }
   ],
   "source": [
    "print(response.text)"
   ]
  },
  {
   "cell_type": "markdown",
   "id": "e48af28d-1e47-4123-8466-dccd6a7d6d20",
   "metadata": {},
   "source": [
    "---\n",
    "\n",
    "Note however, since we initiated a chat, we have a full history of our prompts and Gemini Replies and we can reference them in an ongoing conversation.\n",
    "To view the entire history, you can call `chat.history`.\n"
   ]
  },
  {
   "cell_type": "code",
   "execution_count": 9,
   "id": "20b16d69-056b-4e28-bbcd-0283e81ad406",
   "metadata": {},
   "outputs": [
    {
     "name": "stdout",
     "output_type": "stream",
     "text": [
      "parts {\n",
      "  text: \"Hi! I\\'m planning a trip to Paris, could you help me plan some activities?\"\n",
      "}\n",
      "role: \"user\"\n",
      "\n",
      "\n",
      "\n",
      "\n",
      "parts {\n",
      "  text: \"1. **Visit the Eiffel Tower:**\\n   - Take a lift to the top for a breathtaking view of Paris.\\n   - See the tower\\'s unique architecture and ironwork up close.\\n   - Enjoy a meal at one of the tower\\'s restaurants or cafes.\\n\\n2. **Visit the Louvre Museum:**\\n   - Admire the world-famous Mona Lisa by Leonardo da Vinci.\\n   - See other masterpieces like the Venus de Milo and Winged Victory of Samothrace.\\n   - Explore the museum\\'s vast collection of ancient Egyptian, Greek, and Roman art.\\n\\n3. **Take a Seine River Cruise:**\\n   - Enjoy a relaxing boat ride along the river and admire the iconic sights of Paris.\\n   - Pass by landmarks like the Louvre, the Eiffel Tower, and Notre Dame Cathedral.\\n   - Enjoy a romantic dinner cruise or a Seine river cruise with live music.\\n\\n4. **Visit the Arc de Triomphe:**\\n   - Climb to the top of the arch for panoramic views of the Champs-Élysées and the city.\\n   - See the Tomb of the Unknown Soldier beneath the arch.\\n   - Admire the intricate carvings on the arch, including scenes from French history.\\n\\n5. **Visit the Palace of Versailles:**\\n   - Explore the opulent palace, once home to French kings and queens.\\n   - Wander through the grand Hall of Mirrors and the King\\'s Apartments.\\n   - See the beautiful gardens designed by André Le Nôtre.\\n\\n6. **Explore the Latin Quarter:**\\n   - Stroll through the charming streets and admire the medieval architecture.\\n   - Visit Sorbonne University, the oldest university in Paris.\\n   - Enjoy a coffee or a meal at one of the many cafes and restaurants in the area.\\n\\n7. **Visit the Père Lachaise Cemetery:**\\n   - Pay your respects at the graves of famous figures like Jim Morrison, Oscar Wilde, and Edith Piaf.\\n   - Explore the intricate and beautiful gravestones and sculptures.\\n   - Take a guided tour of the cemetery to learn more about its history and famous residents.\\n\\n8. **See a Show at the Moulin Rouge:**\\n   - Enjoy a spectacular cabaret show featuring the famous can-can dancers.\\n   - Admire the elaborate costumes and sets.\\n   - Have dinner and drinks while watching the show.\\n\\n9. **Visit the Château de Vincennes:**\\n   - Explore the medieval castle, one of the best-preserved in France.\\n   - See the royal apartments, the Sainte-Chapelle, and the donjon tower.\\n   - Take a walk in the surrounding Bois de Vincennes park.\\n\\n10. **Visit the Parc des Buttes-Chaumont:**\\n    - Explore this beautiful park in the northeast of Paris.\\n    - See the artificial lake, the waterfalls, and the grottoes.\\n    - Enjoy a picnic or a stroll through the park\\'s gardens.\"\n",
      "}\n",
      "role: \"model\"\n",
      "\n",
      "\n",
      "\n",
      "\n"
     ]
    }
   ],
   "source": [
    "for item in chat.history:\n",
    "    print(item)\n",
    "    print('\\n\\n')"
   ]
  },
  {
   "cell_type": "code",
   "execution_count": 10,
   "id": "a3562d52-50d3-446b-9fba-ee874f1f6be8",
   "metadata": {},
   "outputs": [
    {
     "data": {
      "text/plain": [
       "google.ai.generativelanguage_v1beta.types.content.Content"
      ]
     },
     "execution_count": 10,
     "metadata": {},
     "output_type": "execute_result"
    }
   ],
   "source": [
    "type(item)"
   ]
  },
  {
   "cell_type": "code",
   "execution_count": 11,
   "id": "c69b5238-e695-4a77-a4ac-5f6699cba615",
   "metadata": {},
   "outputs": [
    {
     "data": {
      "text/plain": [
       "'model'"
      ]
     },
     "execution_count": 11,
     "metadata": {},
     "output_type": "execute_result"
    }
   ],
   "source": [
    "item.role"
   ]
  },
  {
   "cell_type": "code",
   "execution_count": 12,
   "id": "223b1f71-2091-41bd-b27f-dcb97f46b5cc",
   "metadata": {},
   "outputs": [
    {
     "data": {
      "text/plain": [
       "\"1. **Visit the Eiffel Tower:**\\n   - Take a lift to the top for a breathtaking view of Paris.\\n   - See the tower's unique architecture and ironwork up close.\\n   - Enjoy a meal at one of the tower's restaurants or cafes.\\n\\n2. **Visit the Louvre Museum:**\\n   - Admire the world-famous Mona Lisa by Leonardo da Vinci.\\n   - See other masterpieces like the Venus de Milo and Winged Victory of Samothrace.\\n   - Explore the museum's vast collection of ancient Egyptian, Greek, and Roman art.\\n\\n3. **Take a Seine River Cruise:**\\n   - Enjoy a relaxing boat ride along the river and admire the iconic sights of Paris.\\n   - Pass by landmarks like the Louvre, the Eiffel Tower, and Notre Dame Cathedral.\\n   - Enjoy a romantic dinner cruise or a Seine river cruise with live music.\\n\\n4. **Visit the Arc de Triomphe:**\\n   - Climb to the top of the arch for panoramic views of the Champs-Élysées and the city.\\n   - See the Tomb of the Unknown Soldier beneath the arch.\\n   - Admire the intricate carvings on the arch, including scenes from French history.\\n\\n5. **Visit the Palace of Versailles:**\\n   - Explore the opulent palace, once home to French kings and queens.\\n   - Wander through the grand Hall of Mirrors and the King's Apartments.\\n   - See the beautiful gardens designed by André Le Nôtre.\\n\\n6. **Explore the Latin Quarter:**\\n   - Stroll through the charming streets and admire the medieval architecture.\\n   - Visit Sorbonne University, the oldest university in Paris.\\n   - Enjoy a coffee or a meal at one of the many cafes and restaurants in the area.\\n\\n7. **Visit the Père Lachaise Cemetery:**\\n   - Pay your respects at the graves of famous figures like Jim Morrison, Oscar Wilde, and Edith Piaf.\\n   - Explore the intricate and beautiful gravestones and sculptures.\\n   - Take a guided tour of the cemetery to learn more about its history and famous residents.\\n\\n8. **See a Show at the Moulin Rouge:**\\n   - Enjoy a spectacular cabaret show featuring the famous can-can dancers.\\n   - Admire the elaborate costumes and sets.\\n   - Have dinner and drinks while watching the show.\\n\\n9. **Visit the Château de Vincennes:**\\n   - Explore the medieval castle, one of the best-preserved in France.\\n   - See the royal apartments, the Sainte-Chapelle, and the donjon tower.\\n   - Take a walk in the surrounding Bois de Vincennes park.\\n\\n10. **Visit the Parc des Buttes-Chaumont:**\\n    - Explore this beautiful park in the northeast of Paris.\\n    - See the artificial lake, the waterfalls, and the grottoes.\\n    - Enjoy a picnic or a stroll through the park's gardens.\""
      ]
     },
     "execution_count": 12,
     "metadata": {},
     "output_type": "execute_result"
    }
   ],
   "source": [
    "item.parts[0].text"
   ]
  },
  {
   "cell_type": "markdown",
   "id": "c83828ef-ac6c-4aa0-9b1b-63d9accf92f2",
   "metadata": {},
   "source": [
    "### Continue the conversation\n",
    "\n",
    "To continue the conversation, we simply call `.send_message()` again:\n"
   ]
  },
  {
   "cell_type": "code",
   "execution_count": 13,
   "id": "02bc68a4-01ea-44d3-b69c-914304fed2a9",
   "metadata": {},
   "outputs": [],
   "source": [
    "response = chat.send_message(\"Give me more details about that last point\")"
   ]
  },
  {
   "cell_type": "code",
   "execution_count": 14,
   "id": "853a9092-0d97-422e-b0ec-68e23903815d",
   "metadata": {},
   "outputs": [
    {
     "name": "stdout",
     "output_type": "stream",
     "text": [
      "The Parc des Buttes-Chaumont is a large and beautiful park located in the northeast of Paris, France. It was created in the 19th century by工程师Alphand, who was also responsible for designing other famous Parisian parks like the Bois de Boulogne and the Parc Monceau.\n",
      "\n",
      "The park is known for its unique and varied landscape, which includes a large artificial lake, waterfalls, grottoes, and rocky cliffs. It also has several bridges, walkways, and viewpoints that offer stunning views of the park and the city beyond.\n",
      "\n",
      "Here are some specific things you can see and do in the Parc des Buttes-Chaumont:\n",
      "\n",
      "* **Admire the artificial lake:** The lake is a popular spot for boating and fishing. You can rent a rowboat or a pedal boat and explore the lake, or simply relax on the shore and enjoy the scenery.\n",
      "\n",
      "* **See the waterfalls:** There are several waterfalls in the park, including the Grand Cascade, which is the largest. The waterfalls are especially impressive after a heavy rain.\n",
      "\n",
      "* **Explore the grottoes:** There are several grottoes hidden among the rocks in the park. Some of them are quite large and can be explored by foot. Others are smaller and can only be seen from a distance.\n",
      "\n",
      "* **Climb the rocky cliffs:** The park has several rocky cliffs that offer stunning views of the park and the city. There are several paths and staircases that lead to the top of the cliffs.\n",
      "\n",
      "* **Visit the Temple de la Sibylle:** This small temple is located on a hilltop in the park and offers panoramic views of the city. It was built in the 18th century and is a popular spot for weddings and other events.\n",
      "\n",
      "* **Take a walk or bike ride:** The park has several sentiers that are perfect for walking or biking. You can also rent a bike from one of the vendors in the park.\n",
      "\n",
      "* **Have a picnic:** The park has several picnic areas where you can enjoy a meal outdoors. You can bring your own food or purchase it from one of the cafes or kiosks in the park.\n",
      "\n",
      "* **Visit the Parc Zoologique de Paris:** The zoo is located within the Parc des Buttes-Chaumont and is home to a variety of animals, including lions, tigers, bears, elephants, and giraffes.\n",
      "\n",
      "The Parc des Buttes-Chaumont is a great place to escape the hustle and bustle of the city and enjoy some peace and tranquility. It is also a popular spot for families, as there are several playgrounds and other activities for children.\n"
     ]
    }
   ],
   "source": [
    "print(response.text)"
   ]
  },
  {
   "cell_type": "code",
   "execution_count": 15,
   "id": "b2ad74f1-65d1-4cfe-b9f6-c3baf5ec498f",
   "metadata": {},
   "outputs": [
    {
     "name": "stdout",
     "output_type": "stream",
     "text": [
      "[parts {\n",
      "  text: \"Hi! I\\'m planning a trip to Paris, could you help me plan some activities?\"\n",
      "}\n",
      "role: \"user\"\n",
      ", parts {\n",
      "  text: \"1. **Visit the Eiffel Tower:**\\n   - Take a lift to the top for a breathtaking view of Paris.\\n   - See the tower\\'s unique architecture and ironwork up close.\\n   - Enjoy a meal at one of the tower\\'s restaurants or cafes.\\n\\n2. **Visit the Louvre Museum:**\\n   - Admire the world-famous Mona Lisa by Leonardo da Vinci.\\n   - See other masterpieces like the Venus de Milo and Winged Victory of Samothrace.\\n   - Explore the museum\\'s vast collection of ancient Egyptian, Greek, and Roman art.\\n\\n3. **Take a Seine River Cruise:**\\n   - Enjoy a relaxing boat ride along the river and admire the iconic sights of Paris.\\n   - Pass by landmarks like the Louvre, the Eiffel Tower, and Notre Dame Cathedral.\\n   - Enjoy a romantic dinner cruise or a Seine river cruise with live music.\\n\\n4. **Visit the Arc de Triomphe:**\\n   - Climb to the top of the arch for panoramic views of the Champs-Élysées and the city.\\n   - See the Tomb of the Unknown Soldier beneath the arch.\\n   - Admire the intricate carvings on the arch, including scenes from French history.\\n\\n5. **Visit the Palace of Versailles:**\\n   - Explore the opulent palace, once home to French kings and queens.\\n   - Wander through the grand Hall of Mirrors and the King\\'s Apartments.\\n   - See the beautiful gardens designed by André Le Nôtre.\\n\\n6. **Explore the Latin Quarter:**\\n   - Stroll through the charming streets and admire the medieval architecture.\\n   - Visit Sorbonne University, the oldest university in Paris.\\n   - Enjoy a coffee or a meal at one of the many cafes and restaurants in the area.\\n\\n7. **Visit the Père Lachaise Cemetery:**\\n   - Pay your respects at the graves of famous figures like Jim Morrison, Oscar Wilde, and Edith Piaf.\\n   - Explore the intricate and beautiful gravestones and sculptures.\\n   - Take a guided tour of the cemetery to learn more about its history and famous residents.\\n\\n8. **See a Show at the Moulin Rouge:**\\n   - Enjoy a spectacular cabaret show featuring the famous can-can dancers.\\n   - Admire the elaborate costumes and sets.\\n   - Have dinner and drinks while watching the show.\\n\\n9. **Visit the Château de Vincennes:**\\n   - Explore the medieval castle, one of the best-preserved in France.\\n   - See the royal apartments, the Sainte-Chapelle, and the donjon tower.\\n   - Take a walk in the surrounding Bois de Vincennes park.\\n\\n10. **Visit the Parc des Buttes-Chaumont:**\\n    - Explore this beautiful park in the northeast of Paris.\\n    - See the artificial lake, the waterfalls, and the grottoes.\\n    - Enjoy a picnic or a stroll through the park\\'s gardens.\"\n",
      "}\n",
      "role: \"model\"\n",
      ", parts {\n",
      "  text: \"Give me more details about that last point\"\n",
      "}\n",
      "role: \"user\"\n",
      ", parts {\n",
      "  text: \"The Parc des Buttes-Chaumont is a large and beautiful park located in the northeast of Paris, France. It was created in the 19th century by工程师Alphand, who was also responsible for designing other famous Parisian parks like the Bois de Boulogne and the Parc Monceau.\\n\\nThe park is known for its unique and varied landscape, which includes a large artificial lake, waterfalls, grottoes, and rocky cliffs. It also has several bridges, walkways, and viewpoints that offer stunning views of the park and the city beyond.\\n\\nHere are some specific things you can see and do in the Parc des Buttes-Chaumont:\\n\\n* **Admire the artificial lake:** The lake is a popular spot for boating and fishing. You can rent a rowboat or a pedal boat and explore the lake, or simply relax on the shore and enjoy the scenery.\\n\\n* **See the waterfalls:** There are several waterfalls in the park, including the Grand Cascade, which is the largest. The waterfalls are especially impressive after a heavy rain.\\n\\n* **Explore the grottoes:** There are several grottoes hidden among the rocks in the park. Some of them are quite large and can be explored by foot. Others are smaller and can only be seen from a distance.\\n\\n* **Climb the rocky cliffs:** The park has several rocky cliffs that offer stunning views of the park and the city. There are several paths and staircases that lead to the top of the cliffs.\\n\\n* **Visit the Temple de la Sibylle:** This small temple is located on a hilltop in the park and offers panoramic views of the city. It was built in the 18th century and is a popular spot for weddings and other events.\\n\\n* **Take a walk or bike ride:** The park has several sentiers that are perfect for walking or biking. You can also rent a bike from one of the vendors in the park.\\n\\n* **Have a picnic:** The park has several picnic areas where you can enjoy a meal outdoors. You can bring your own food or purchase it from one of the cafes or kiosks in the park.\\n\\n* **Visit the Parc Zoologique de Paris:** The zoo is located within the Parc des Buttes-Chaumont and is home to a variety of animals, including lions, tigers, bears, elephants, and giraffes.\\n\\nThe Parc des Buttes-Chaumont is a great place to escape the hustle and bustle of the city and enjoy some peace and tranquility. It is also a popular spot for families, as there are several playgrounds and other activities for children.\"\n",
      "}\n",
      "role: \"model\"\n",
      "]\n"
     ]
    }
   ],
   "source": [
    "print(chat.history)"
   ]
  },
  {
   "cell_type": "markdown",
   "id": "37045eb5-c74a-4ae4-98ea-2c4951e92f42",
   "metadata": {},
   "source": [
    "## Stream Reply\n",
    "\n",
    "Since tokens are generated on the fly, you could also directly grab the chunkcs as the come in:\n"
   ]
  },
  {
   "cell_type": "code",
   "execution_count": 16,
   "id": "52761b85-74da-441a-a8e8-4000f3cdb4a3",
   "metadata": {},
   "outputs": [
    {
     "name": "stdout",
     "output_type": "stream",
     "text": [
      "Yes, there was a musical based on the Parc des Buttes-Chaumont\n",
      ". It is called \"Les Demoiselles de Rochefort\" (The Young Girls of Rochefort) and was released in 1967. The\n",
      " musical tells the story of twin sisters who are separated at birth and reunite in the Parc des Buttes-Chaumont. The musical features several scenes that were filmed in the park, including the artificial lake, the waterfalls, and the Temple de la Sibylle.\n",
      "\n",
      "The musical was directed by Jacques Demy and stars Catherine\n",
      " Deneuve, Françoise Dorléac, and Gene Kelly. It is known for its catchy songs and its beautiful cinematography.\n",
      "\n",
      "There is also a 2014 French film called \"Sous les jupes des filles\" (Under the Girls' Skirts) that features several scenes filmed in the Parc des Buttes-Chaumont. The film tells the story of a group of women who live and work in the same building in Paris. The park is used as a setting for several key scenes in the film.\n",
      "\n",
      "The Parc des Buttes-Chaumont is a popular filming location due to its unique and varied landscape. It\n",
      " has also been featured in other films and television shows, including \"Amélie\" (2001), \"Midnight in Paris\" (2011), and \"The Bureau\" (2015-2020).\n"
     ]
    }
   ],
   "source": [
    "response = chat.send_message(\n",
    "    \"Wasn't there a movie or musical about this?\", stream=True)\n",
    "\n",
    "\n",
    "\n",
    "for chunk in response:\n",
    "\n",
    "    print(chunk.text)"
   ]
  },
  {
   "cell_type": "markdown",
   "id": "1f80a378-a640-47ff-bbdf-5ba637c9bd2f",
   "metadata": {},
   "source": [
    "## Token Count\n",
    "\n",
    "You can easily count tokens as well:\n"
   ]
  },
  {
   "cell_type": "code",
   "execution_count": 20,
   "id": "2ada23b3-073d-463f-b524-ea89ad28692c",
   "metadata": {},
   "outputs": [
    {
     "data": {
      "text/plain": [
       "total_tokens: 15"
      ]
     },
     "execution_count": 20,
     "metadata": {},
     "output_type": "execute_result"
    }
   ],
   "source": [
    "model.count_tokens(\n",
    "    \"hello lightness my old friend...I've come to laugh with you again\")"
   ]
  },
  {
   "cell_type": "code",
   "execution_count": null,
   "id": "d2e155e9-94ab-4807-a782-e0275c0b8888",
   "metadata": {},
   "outputs": [],
   "source": []
  }
 ],
 "metadata": {
  "kernelspec": {
   "display_name": "Python 3 (ipykernel)",
   "language": "python",
   "name": "python3"
  },
  "language_info": {
   "codemirror_mode": {
    "name": "ipython",
    "version": 3
   },
   "file_extension": ".py",
   "mimetype": "text/x-python",
   "name": "python",
   "nbconvert_exporter": "python",
   "pygments_lexer": "ipython3",
   "version": "3.10.4"
  }
 },
 "nbformat": 4,
 "nbformat_minor": 5
}
