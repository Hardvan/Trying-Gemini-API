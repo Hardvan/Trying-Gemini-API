{
 "cells": [
  {
   "cell_type": "markdown",
   "id": "fd298c25-4b0b-435f-9876-364402cba58c",
   "metadata": {
    "tags": []
   },
   "source": [
    "# Generation Configuration (Text Generation Parameters)\n",
    "\n",
    "You can pass in configuration values to further refine the type of output you will get.\n",
    "\n",
    "Let's set up an easy to use function to explore these concepts:\n"
   ]
  },
  {
   "cell_type": "code",
   "execution_count": 33,
   "id": "88ee97b1-e5bf-44fd-a87f-8ed1500a7755",
   "metadata": {},
   "outputs": [],
   "source": [
    "import os\n",
    "from dotenv import load_dotenv\n",
    "load_dotenv()\n",
    "\n",
    "GOOGLE_API_KEY = os.getenv(\"GOOGLE_API_KEY\")"
   ]
  },
  {
   "cell_type": "code",
   "execution_count": 34,
   "id": "054ae913-356c-4c30-b38c-868b7993245c",
   "metadata": {},
   "outputs": [],
   "source": [
    "import google.generativeai as genai\n",
    "genai.configure(api_key=GOOGLE_API_KEY)\n",
    "\n",
    "model = genai.GenerativeModel('gemini-pro')"
   ]
  },
  {
   "cell_type": "markdown",
   "id": "516f911d-8757-4e4d-82be-97b71ca45b4d",
   "metadata": {},
   "source": [
    "## The Generation Configuration Object\n",
    "\n",
    "You can easily supply arguments to a generation configuration object:\n"
   ]
  },
  {
   "cell_type": "markdown",
   "id": "81095c93",
   "metadata": {},
   "source": [
    "## Temperature\n",
    "\n",
    "- **High Temperature (~1.0)**  \n",
    "   Makes the model more creative by introducing more randomness in the generation. Good for creative writing.\n",
    "\n",
    "- **Low Temperature (~0.0)**  \n",
    "   Makes the model more conservative by reducing randomness. Good for focused writing.\n"
   ]
  },
  {
   "cell_type": "code",
   "execution_count": 35,
   "id": "f0881212-be32-4eb5-b56c-88eb5eeb17ff",
   "metadata": {},
   "outputs": [],
   "source": [
    "config = genai.types.GenerationConfig(\n",
    "    temperature=1.0,\n",
    "    max_output_tokens=2000,\n",
    "    candidate_count=1)"
   ]
  },
  {
   "cell_type": "code",
   "execution_count": 36,
   "id": "a5d1b9d0-d53b-4f3b-ab71-3da055ddb487",
   "metadata": {},
   "outputs": [],
   "source": [
    "def get_response(prompt, generation_config={}):\n",
    "    response = model.generate_content(\n",
    "        contents=prompt, generation_config=generation_config)\n",
    "    return response"
   ]
  },
  {
   "cell_type": "code",
   "execution_count": 37,
   "id": "db2192d5-1a85-42da-8b6a-93ad801ff97d",
   "metadata": {},
   "outputs": [
    {
     "name": "stdout",
     "output_type": "stream",
     "text": [
      "Once upon a time, in a vast and mysterious universe, there lived a celestial body known as the Moon. It orbited a large and vibrant planet called Earth, silently watching over its inhabitants from afar. The Moon held many secrets and stories within its dusty craters and shimmering surface.\n",
      "\n",
      "Long ago, before humans walked the Earth, the Moon was a place of wonder and awe. Ancient civilizations marveled at its presence in the night sky, weaving tales and myths to explain its existence. Some believed the Moon was a deity, a guardian of the night, while others saw it as a symbol of hope and renewal.\n",
      "\n",
      "As time passed, humans began to explore the unknown. They yearned to reach the Moon and unravel its enigmas. With unwavering determination, scientists and engineers worked tirelessly to build mighty rockets and spaceships capable of carrying astronauts to this celestial destination.\n",
      "\n",
      "In 1969, the world held its breath as Apollo 11 embarked on its groundbreaking mission. With Neil Armstrong and Buzz Aldrin on board, the spacecraft hurtled towards the Moon, carrying the hopes and dreams of humanity. On July 20, 1969, Armstrong took his historic first steps on the lunar surface, uttering the famous words, \"That's one small step for man, one giant leap for mankind.\"\n",
      "\n",
      "The Moon, once shrouded in mystery, began to reveal its secrets. Astronauts collected samples of lunar rocks and soil, conducted experiments, and planted the American flag as a symbol of human achievement. The world watched in awe as images and stories of the Moon's desolate beauty and fascinating features filled their screens and newspapers.\n",
      "\n",
      "The Moon's influence on Earth is undeniable. Its gravitational pull affects the tides, causing the rhythmic rise and fall of the oceans. It also plays a role in stabilizing Earth's axis, preventing it from wobbling too much, ensuring a relatively stable climate.\n",
      "\n",
      "As humans continue to explore space, the Moon remains a captivating destination. It holds the promise of valuable resources and the potential for scientific discoveries that could revolutionize our understanding of the universe. It beckons us to push the boundaries of human knowledge and to dream of a future where we can live and work among the stars.\n",
      "\n",
      "And so, the Moon continues its journey, orbiting Earth, a silent and unwavering companion. It has witnessed countless events throughout history, from the rise and fall of civilizations to the birth and death of stars. It has been a source of inspiration for artists, poets, and scientists alike, capturing the imagination of humanity for millennia. The Moon stands as a testament to the vastness and mystery of the universe, waiting for us to unravel its secrets and forge new paths into the cosmos.\n"
     ]
    }
   ],
   "source": [
    "result = get_response(\"Tell me a story about the Moon\")\n",
    "print(result.text)"
   ]
  },
  {
   "cell_type": "code",
   "execution_count": 38,
   "id": "9e60face-6c56-469b-81ff-4631dc412a07",
   "metadata": {},
   "outputs": [],
   "source": [
    "result = get_response(\"Tell me a story about the Moon\",\n",
    "                      generation_config=config)"
   ]
  },
  {
   "cell_type": "code",
   "execution_count": 39,
   "id": "62dd2121-4306-4240-846a-b005faa55d68",
   "metadata": {},
   "outputs": [
    {
     "name": "stdout",
     "output_type": "stream",
     "text": [
      "In a cosmos of celestial wonders, where stars twinkled like diamonds and planets danced in harmony, there resided a mesmerizing orb known as the Moon. Its silvery glow had captivated the hearts of poets, astronomers, and dreamers for eons. But, hidden within its enigmatic craters and ethereal aura was a story yet to be unfolded.\n",
      "\n",
      "Once upon a time, in the vastness of space, the Moon was a barren and lifeless rock, devoid of any warmth or color. It aimlessly wandered through the cosmos, a solitary celestial body, until one fateful day, when destiny intervened. A meteor shower, like a celestial fireworks display, crashed upon the Moon's surface. Its impact, so powerful and breathtaking, carved craters and rilles that would forever adorn its silvery face. As time passed, the meteorites' impact gradually transformed the Moon's surface. Molten rock gushed forth from the depths, shaping mountains and valleys, a captivating tapestry of light and shadows. The craters, large and small, became the Moon's distinctive marks, bearing witness to celestial collisions that had shaped its history.\n",
      "\n",
      "As centuries unfurled, the Moon's enchanting presence captivated the hearts and minds of Earth's inhabitants. To the ancient Egyptians, it was a symbol of fertility and rebirth, while for the Greeks, it represented the goddess Artemis, the patron of hunters and protector of young girls. Countless myths and legends were woven around the Moon, stories of love, loss, and celestial journeys. Poets penned odes to its beauty, and artists immortalized its serene countenance in paintings and sculptures.\n",
      "\n",
      "Over time, the Moon became an object of scientific fascination. Astronomers and scientists from around the globe turned their telescopes towards its mysterious surface. They discovered that the Moon had experienced volcanic activity, but unlike Earth, it had cooled long ago, leaving behind vast, dormant lava fields. As they delved deeper into its secrets, they realized that the Moon's composition held valuable insights into the formation of our solar system and the origins of celestial bodies.\n",
      "\n",
      "But the Moon's story was far from complete. In the mid-20th century, humanity took its first tentative, awe-inspiring steps onto its surface. Neil Armstrong and Buzz Aldrin, two brave astronauts, left their footprints in the lunar dust, marking a historic moment for humankind. Their journey sparked a surge of curiosity and wonder, and for a brief moment, the entire world felt connected to something greater than themselves.\n",
      "\n",
      "The Moon's companionship endured throughout the ages, faithfully orbiting Earth as a silent sentinel. With each passing phase, it illuminated the night sky, casting a tranquil glow upon sleeping cities and sprawling landscapes. Its cyclical nature, forever changing yet eternally familiar, served as a reminder of life's constant ebb and flow.\n",
      "\n",
      "And so, the Moon continued its celestial waltz, bearing countless stories and secrets within its captivating aura. Its tale remained intertwined with humanity's journey through time, inspiring dreams, sparking curiosity, and shaping the course of our existence. As generations gazed upon its luminous visage, they knew that the Moon was much more than just a rocky satellite; it was a celestial marvel that touched their souls and sparked their imagination, reminding them of the vast and awe-inspiring universe that surrounded them.\n"
     ]
    }
   ],
   "source": [
    "print(result.text)"
   ]
  },
  {
   "cell_type": "markdown",
   "id": "7b3a2065-c496-445d-b3f6-9edb2ca1bc5b",
   "metadata": {},
   "source": [
    "**BE AWARE! Take careful notice how adding the configuration changes the object that is sent back! If you get a warning message read it carefully! For example, check out the warning below, it tells you how to access the information**\n",
    "\n",
    "> > ValueError: The `response.text` quick accessor only works for simple (single-`Part`) text responses. This response is not simple text.Use the `result.parts` accessor or the full `result.candidates[index].content.parts` lookup instead.\n"
   ]
  },
  {
   "cell_type": "code",
   "execution_count": 40,
   "id": "58cfa953-6ffe-4925-9389-854918aef338",
   "metadata": {},
   "outputs": [
    {
     "name": "stdout",
     "output_type": "stream",
     "text": [
      "In a cosmos of celestial wonders, where stars twinkled like diamonds and planets danced in harmony, there resided a mesmerizing orb known as the Moon. Its silvery glow had captivated the hearts of poets, astronomers, and dreamers for eons. But, hidden within its enigmatic craters and ethereal aura was a story yet to be unfolded.\n",
      "\n",
      "Once upon a time, in the vastness of space, the Moon was a barren and lifeless rock, devoid of any warmth or color. It aimlessly wandered through the cosmos, a solitary celestial body, until one fateful day, when destiny intervened. A meteor shower, like a celestial fireworks display, crashed upon the Moon's surface. Its impact, so powerful and breathtaking, carved craters and rilles that would forever adorn its silvery face. As time passed, the meteorites' impact gradually transformed the Moon's surface. Molten rock gushed forth from the depths, shaping mountains and valleys, a captivating tapestry of light and shadows. The craters, large and small, became the Moon's distinctive marks, bearing witness to celestial collisions that had shaped its history.\n",
      "\n",
      "As centuries unfurled, the Moon's enchanting presence captivated the hearts and minds of Earth's inhabitants. To the ancient Egyptians, it was a symbol of fertility and rebirth, while for the Greeks, it represented the goddess Artemis, the patron of hunters and protector of young girls. Countless myths and legends were woven around the Moon, stories of love, loss, and celestial journeys. Poets penned odes to its beauty, and artists immortalized its serene countenance in paintings and sculptures.\n",
      "\n",
      "Over time, the Moon became an object of scientific fascination. Astronomers and scientists from around the globe turned their telescopes towards its mysterious surface. They discovered that the Moon had experienced volcanic activity, but unlike Earth, it had cooled long ago, leaving behind vast, dormant lava fields. As they delved deeper into its secrets, they realized that the Moon's composition held valuable insights into the formation of our solar system and the origins of celestial bodies.\n",
      "\n",
      "But the Moon's story was far from complete. In the mid-20th century, humanity took its first tentative, awe-inspiring steps onto its surface. Neil Armstrong and Buzz Aldrin, two brave astronauts, left their footprints in the lunar dust, marking a historic moment for humankind. Their journey sparked a surge of curiosity and wonder, and for a brief moment, the entire world felt connected to something greater than themselves.\n",
      "\n",
      "The Moon's companionship endured throughout the ages, faithfully orbiting Earth as a silent sentinel. With each passing phase, it illuminated the night sky, casting a tranquil glow upon sleeping cities and sprawling landscapes. Its cyclical nature, forever changing yet eternally familiar, served as a reminder of life's constant ebb and flow.\n",
      "\n",
      "And so, the Moon continued its celestial waltz, bearing countless stories and secrets within its captivating aura. Its tale remained intertwined with humanity's journey through time, inspiring dreams, sparking curiosity, and shaping the course of our existence. As generations gazed upon its luminous visage, they knew that the Moon was much more than just a rocky satellite; it was a celestial marvel that touched their souls and sparked their imagination, reminding them of the vast and awe-inspiring universe that surrounded them.\n"
     ]
    }
   ],
   "source": [
    "print(result.candidates[0].content.parts[0].text)"
   ]
  },
  {
   "cell_type": "markdown",
   "id": "e72a30fd-bead-4f0a-9f22-a2eb05f51115",
   "metadata": {
    "tags": []
   },
   "source": [
    "## Gemini LLM Configuration Parameters\n",
    "\n",
    "### Temperature\n",
    "\n",
    "In Gemini LLM, the `temperature` parameter plays a crucial role in the response generation process. It's instrumental during the sampling phase, particularly when `top_p` and `top_k` parameters are in effect. Essentially, `temperature` influences the randomness in token selection:\n",
    "\n",
    "- **Low temperatures** are optimal for prompts necessitating deterministic, concise, and less creative responses.\n",
    "- **High temperatures** foster diverse and creative outcomes, enhancing the model's response variability.\n",
    "\n",
    "  - **Range**: `0.0 - 1.0`\n",
    "  - **Default Settings**:\n",
    "    - **gemini-pro**: `0.9`\n",
    "    - **gemini-pro-vision**: `0.4`\n"
   ]
  },
  {
   "cell_type": "code",
   "execution_count": 41,
   "id": "0fdbdcb5-af2b-4df5-83a9-3fba83816335",
   "metadata": {},
   "outputs": [
    {
     "name": "stdout",
     "output_type": "stream",
     "text": [
      "India, officially the Republic of India, is a country in South Asia. It is the second-most populous country in the world, with over 1.4 billion people, and the seventh-largest country by land area, spanning 3.287 million square kilometers (1.269 million square miles). India is bordered by Pakistan to the west; China, Nepal, and Bhutan to the north; and Bangladesh and Myanmar to the east. The Indian Ocean lies to the south, with the Arabian Sea to the southwest and the Bay of Bengal to the southeast.\n",
      "\n",
      "India is a diverse country, with a rich history and culture. It is home to a wide variety of languages, religions, and ethnic groups. The official languages of India are Hindi and English, but there are 22 other languages that are recognized as official languages in different states. India is also home to a number of major religions, including Hinduism, Islam, Christianity, Sikhism, Buddhism, and Jainism.\n",
      "\n",
      "India has a long and complex history. The first civilizations in India date back to the Indus Valley Civilization, which flourished between 2500 and 1900 BCE. The Indus Valley Civilization was one of the world's earliest civilizations, and it is believed to have been the birthplace of Hinduism. In the centuries that followed, India was ruled by a number of different empires, including the Mauryan Empire, the Gupta Empire, and the Mughal Empire.\n",
      "\n",
      "In the 18th century, India became a colony of the British Empire. The British ruled India for over 200 years, and their rule had a profound impact on the country. The British introduced a number of new technologies and institutions to India, and they also helped to spread the English language. However, British rule also led to a number of problems, including poverty, famine, and discrimination.\n",
      "\n",
      "India gained independence from the British in 1947. After independence, India adopted a democratic constitution and became a republic. The country has since made significant progress in a number of areas, including economic development, education, and healthcare. However, India still faces a number of challenges, including poverty, inequality, and corruption.\n",
      "\n",
      "India is a land of contrasts. It is a country of great beauty and diversity, but it is also a country of poverty and inequality. India is a country with a rich history and culture, but it is also a country that is still struggling to overcome the challenges of the past.\n",
      "\n",
      "Here are some additional facts about India:\n",
      "\n",
      "* Capital: New Delhi\n",
      "* Population: 1.4 billion (2023 est.)\n",
      "* Area: 3.287 million square kilometers (1.269 million square miles)\n",
      "* Official languages: Hindi and English\n",
      "* Major religions: Hinduism, Islam, Christianity, Sikhism, Buddhism, and Jainism\n",
      "* Currency: Indian rupee (INR)\n",
      "* Time zone: Indian Standard Time (IST) (UTC+5:30)\n",
      "* Independence day: August 15, 1947\n",
      "* National anthem: \"Jana Gana Mana\"\n",
      "* National flag: The tricolor flag of India consists of three horizontal stripes of equal width. The top stripe is saffron, the middle stripe is white, and the bottom stripe is green. A navy blue wheel with 24 spokes is centered on the white stripe. The wheel is known as the Ashoka Chakra, and it is a symbol of progress and prosperity.\n"
     ]
    }
   ],
   "source": [
    "config = genai.types.GenerationConfig(temperature=0.0)\n",
    "result = get_response(\"Tell me about India\",\n",
    "                      generation_config=config)\n",
    "print(result.text)"
   ]
  },
  {
   "cell_type": "code",
   "execution_count": 42,
   "id": "ed7bc964-001e-4718-b12c-5e350c29f391",
   "metadata": {},
   "outputs": [
    {
     "name": "stdout",
     "output_type": "stream",
     "text": [
      "**Population:** 1.39 Billion (2021)\n",
      "**Capital:** New Delhi\n",
      "**Languages:** Hindi (Official), English (Associate Official)\n",
      "**Currency:** Indian Rupee (INR)\n",
      "**Demonym:** Indian\n",
      "**Largest Cities:** Mumbai (Bombay), New Delhi, Kolkata (Calcutta), Chennai (Madras), Hyderabad, Bengaluru (Bangalore), Ahmedabad, Jaipur, Surat, Lucknow\n",
      "**Area:** 3.287 million km2 (1.269 million sq mi)\n",
      "\n",
      "- **Diwali:** The festival of lights is celebrated during the autumn months. Homes are decorated with lights and colorful decorations, and families gather to feast and exchange gifts.\n",
      "-**Holi:** The festival of colors is celebrated in the spring season. People throw colored powder and water at each other, and there are music and dancing in the streets.\n",
      "-**Durga Puja:** A ten-day festival honoring the goddess Durga, held in autumn.\n",
      "-**Ganesh Chaturthi:** A ten-day festival honoring the god Ganesh, held in August or September.\n",
      "-**Navaratri:** A nine-day festival honoring the goddess Durga, held in September or October.\n",
      "-**Dussehra:** A ten-day festival honoring the god Rama, held in October or November.\n",
      "-**Diwali:** A five-day festival of lights celebrated in October or November.\n",
      "\n",
      "**Official Languages:** Hindi (Most Widely Spoken), English (Official), Bengali, Marathi, Telugu, Tamil, Gujarati, Kannada\n"
     ]
    }
   ],
   "source": [
    "config = genai.types.GenerationConfig(temperature=1.0)\n",
    "result = get_response(\"Tell me about India\",\n",
    "                      generation_config=config)\n",
    "print(result.text)"
   ]
  },
  {
   "cell_type": "markdown",
   "id": "402aa027-594d-4f48-ba22-957aea1f6e11",
   "metadata": {
    "tags": []
   },
   "source": [
    "### max_output_tokens\n",
    "\n",
    "The `max_output_tokens` parameter defines the upper limit of tokens generated in a response. Notably, a token approximates four characters, translating to about 60-80 words for 100 tokens. Adjust this parameter based on the desired response length:\n",
    "\n",
    "- **Lower values** lead to shorter responses.\n",
    "- **Higher values** enable more extensive responses.\n",
    "\n",
    "  - **Ranges**:\n",
    "    - **gemini-pro**: `1-8192` (default: `8192`)\n",
    "    - **gemini-pro-vision**: `1-2048` (default: `2048`)\n"
   ]
  },
  {
   "cell_type": "code",
   "execution_count": 43,
   "id": "672e48ec-fb5c-4e29-a6f0-76b1c5c472cf",
   "metadata": {},
   "outputs": [
    {
     "ename": "ValueError",
     "evalue": "The `response.text` quick accessor only works for simple (single-`Part`) text responses. This response is not simple text.Use the `result.parts` accessor or the full `result.candidates[index].content.parts` lookup instead.",
     "output_type": "error",
     "traceback": [
      "\u001b[1;31m---------------------------------------------------------------------------\u001b[0m",
      "\u001b[1;31mValueError\u001b[0m                                Traceback (most recent call last)",
      "Cell \u001b[1;32mIn[43], line 4\u001b[0m\n\u001b[0;32m      1\u001b[0m config \u001b[38;5;241m=\u001b[39m genai\u001b[38;5;241m.\u001b[39mtypes\u001b[38;5;241m.\u001b[39mGenerationConfig(max_output_tokens\u001b[38;5;241m=\u001b[39m\u001b[38;5;241m500\u001b[39m)\n\u001b[0;32m      2\u001b[0m result \u001b[38;5;241m=\u001b[39m get_response(\u001b[38;5;124m\"\u001b[39m\u001b[38;5;124mTell me about India\u001b[39m\u001b[38;5;124m\"\u001b[39m,\n\u001b[0;32m      3\u001b[0m                       generation_config\u001b[38;5;241m=\u001b[39mconfig)\n\u001b[1;32m----> 4\u001b[0m \u001b[38;5;28mprint\u001b[39m(\u001b[43mresult\u001b[49m\u001b[38;5;241;43m.\u001b[39;49m\u001b[43mtext\u001b[49m)\n",
      "File \u001b[1;32mf:\\Trying Gemini API\\.venv\\lib\\site-packages\\google\\generativeai\\types\\generation_types.py:328\u001b[0m, in \u001b[0;36mBaseGenerateContentResponse.text\u001b[1;34m(self)\u001b[0m\n\u001b[0;32m    326\u001b[0m parts \u001b[38;5;241m=\u001b[39m \u001b[38;5;28mself\u001b[39m\u001b[38;5;241m.\u001b[39mparts\n\u001b[0;32m    327\u001b[0m \u001b[38;5;28;01mif\u001b[39;00m \u001b[38;5;28mlen\u001b[39m(parts) \u001b[38;5;241m!=\u001b[39m \u001b[38;5;241m1\u001b[39m \u001b[38;5;129;01mor\u001b[39;00m \u001b[38;5;124m\"\u001b[39m\u001b[38;5;124mtext\u001b[39m\u001b[38;5;124m\"\u001b[39m \u001b[38;5;129;01mnot\u001b[39;00m \u001b[38;5;129;01min\u001b[39;00m parts[\u001b[38;5;241m0\u001b[39m]:\n\u001b[1;32m--> 328\u001b[0m     \u001b[38;5;28;01mraise\u001b[39;00m \u001b[38;5;167;01mValueError\u001b[39;00m(\n\u001b[0;32m    329\u001b[0m         \u001b[38;5;124m\"\u001b[39m\u001b[38;5;124mThe `response.text` quick accessor only works for \u001b[39m\u001b[38;5;124m\"\u001b[39m\n\u001b[0;32m    330\u001b[0m         \u001b[38;5;124m\"\u001b[39m\u001b[38;5;124msimple (single-`Part`) text responses. This response is not simple text.\u001b[39m\u001b[38;5;124m\"\u001b[39m\n\u001b[0;32m    331\u001b[0m         \u001b[38;5;124m\"\u001b[39m\u001b[38;5;124mUse the `result.parts` accessor or the full \u001b[39m\u001b[38;5;124m\"\u001b[39m\n\u001b[0;32m    332\u001b[0m         \u001b[38;5;124m\"\u001b[39m\u001b[38;5;124m`result.candidates[index].content.parts` lookup \u001b[39m\u001b[38;5;124m\"\u001b[39m\n\u001b[0;32m    333\u001b[0m         \u001b[38;5;124m\"\u001b[39m\u001b[38;5;124minstead.\u001b[39m\u001b[38;5;124m\"\u001b[39m\n\u001b[0;32m    334\u001b[0m     )\n\u001b[0;32m    335\u001b[0m \u001b[38;5;28;01mreturn\u001b[39;00m parts[\u001b[38;5;241m0\u001b[39m]\u001b[38;5;241m.\u001b[39mtext\n",
      "\u001b[1;31mValueError\u001b[0m: The `response.text` quick accessor only works for simple (single-`Part`) text responses. This response is not simple text.Use the `result.parts` accessor or the full `result.candidates[index].content.parts` lookup instead."
     ]
    }
   ],
   "source": [
    "config = genai.types.GenerationConfig(max_output_tokens=500)\n",
    "result = get_response(\"Tell me about India\",\n",
    "                      generation_config=config)\n",
    "print(result.text)"
   ]
  },
  {
   "cell_type": "markdown",
   "id": "70768170-8ae8-4be9-b756-9a88b11086e2",
   "metadata": {
    "tags": []
   },
   "source": [
    "### top_k\n",
    "\n",
    "`top_k` parameter influences the model's token selection strategy for generating outputs. It's a measure of how many of the most probable tokens are considered at each step:\n",
    "\n",
    "- A **top_k of 1** implies a deterministic approach, choosing the most probable token.\n",
    "- Higher **top_k values** introduce diversity, selecting from a broader range of probable tokens based on the set `temperature`.\n",
    "\n",
    "  - **Range**: `1-40`\n",
    "  - **Default Settings**:\n",
    "    - **gemini-pro-vision**: `32`\n",
    "    - **gemini-pro**: Not specified (none)\n"
   ]
  },
  {
   "cell_type": "code",
   "execution_count": 44,
   "id": "21fea7fb-702a-45cb-a4d3-e47163b616f2",
   "metadata": {},
   "outputs": [
    {
     "name": "stdout",
     "output_type": "stream",
     "text": [
      "India, officially known as the Republic of India, is a country in South Asia. It is the seventh-largest country by land area and the second-largest by population, with over 1.4 billion people. India is also a cultural, ethnic, and linguistic diverse country, with a rich history and heritage.\n",
      "\n",
      "**Here are some more facts about India:**\n",
      "\n",
      "* **Capital:** New Delhi\n",
      "* **Official languages:** Hindi and English\n",
      "* **Religion:** Hinduism (majority), Islam, Christianity, Sikhism, Buddhism, and Jainism\n",
      "* **Currency:** Indian Rupee (INR)\n",
      "* **Government:** Federal parliamentary republic\n",
      "* **President:** Ram Nath Kovind\n",
      "* **Prime Minister:** Narendra Modi\n",
      "* **Area:** 3,287,263 sq km (1,269,219 sq mi)\n",
      "* **Population:** 1.4 billion (2022)\n",
      "* **GDP:** $3.5 trillion (nominal, 2022)\n",
      "* **GDP per capita:** $2,500 (nominal, 2022)\n",
      "* **Human Development Index:** 0.645 (2020)\n",
      "\n",
      "**History:**\n",
      "\n",
      "India has a long and rich history, dating back to ancient civilizations. The Indus Valley Civilization, one of the world's earliest known civilizations, flourished in the Indus River valley from around 3300 to 1300 BC. After the collapse of the Indus Valley Civilization, India was ruled by a succession of empires, including the Mauryan Empire, the Gupta Empire, and the Delhi Sultanate. In the 16th century, India was colonized by the Portuguese, followed by the Dutch, the French, and the British. India gained independence from British rule in 1947.\n",
      "\n",
      "**Geography:**\n",
      "\n",
      "India is a large and diverse country, with a wide range of geographical features. The Himalayas, the highest mountain range in the world, runs along India's northern border. The Deccan Plateau, a large plateau, covers much of central and southern India. The Indo-Gangetic Plain, a fertile river plain, lies between the Himalayas and the Deccan Plateau. India has a long coastline, with the Arabian Sea to the west, the Bay of Bengal to the east, and the Indian Ocean to the south.\n",
      "\n",
      "**Climate:**\n",
      "\n",
      "India has a tropical climate, with a hot and humid summer and a cool and dry winter. The monsoon, a seasonal wind, brings heavy rain to India from June to September.\n",
      "\n",
      "**Economy:**\n",
      "\n",
      "India is a rapidly growing economy, and is now the world's sixth-largest economy by nominal GDP. The country's economy is dominated by the service sector, which accounts for over 60% of GDP. Agriculture is also an important part of the economy, with India being one of the world's largest producers of rice, wheat, and sugar. India is also a major exporter of textiles, jewelry, and pharmaceuticals.\n",
      "\n",
      "**Culture:**\n",
      "\n",
      "India is a culturally diverse country, with a rich history and heritage. The country is home to a wide variety of languages, religions, and ethnic groups. Indian culture is influenced by a number of factors, including the country's long history, its diverse geography, and its interactions with other cultures. India is known for its vibrant festivals, colorful clothing, and delicious food.\n",
      "\n",
      "**Tourism:**\n",
      "\n",
      "India is a popular tourist destination, attracting visitors from all over the world. The country's rich history, diverse culture, and beautiful scenery make it a great place to visit. Some of the most popular tourist destinations in India include the Taj Mahal, the Red Fort, the Golden Temple, and the Ganges River.\n"
     ]
    }
   ],
   "source": [
    "config = genai.types.GenerationConfig(top_k=1)\n",
    "result = get_response(\"Tell me about India\",\n",
    "                      generation_config=config)\n",
    "print(result.text)"
   ]
  },
  {
   "cell_type": "code",
   "execution_count": 45,
   "id": "f312c3e2-f8b7-4a9e-9ffd-3ec20b650f1c",
   "metadata": {},
   "outputs": [
    {
     "name": "stdout",
     "output_type": "stream",
     "text": [
      "1. **Geographical Diversity:** India is a land of diverse landscapes, from the towering Himalayas in the north to the tropical beaches of the south, from the Thar Desert in the west to the lush forests of the northeast. This geographical variety offers a wide range of climates, ecosystems, and natural wonders.\n",
      "\n",
      "2. **Cultural Heritage:** India has a rich cultural heritage that spans thousands of years. The country is home to numerous ancient civilizations, each leaving its unique mark on art, music, dance, literature, and cuisine. India's cultural diversity is reflected in its many languages, religions, and ethnic groups, which coexist in harmony.\n",
      "\n",
      "3. **History:** India has a long and fascinating history, with evidence of human habitation dating back hundreds of thousands of years. The country has been ruled by a succession of empires and dynasties, each contributing to its cultural and historical tapestry. India's independence struggle against British rule is a significant chapter in its history, leading to the formation of an independent nation in 1947.\n",
      "\n",
      "4. **Population:** India is the second most populous country in the world, with a population of over 1.4 billion people. This庞大的population presents both challenges and opportunities for the country in terms of economic growth, education, healthcare, and infrastructure development.\n",
      "\n",
      "5. **Economic Growth:** India is one of the fastest-growing economies in the world, with a GDP of over $3 trillion. The country has experienced significant economic growth in recent decades, driven by sectors such as agriculture, manufacturing, services, and technology. India is also home to many startups and entrepreneurs, contributing to its economic dynamism.\n",
      "\n",
      "6. **Religion:** India is a secular country with a diverse range of religious beliefs. Hinduism is the majority religion, followed by Islam, Christianity, Sikhism, Buddhism, and Jainism. India's religious diversity is a source of pride and tolerance among its citizens.\n",
      "\n",
      "7. **Cuisine:** Indian cuisine is renowned for its variety, flavors, and spices. Each region of India has its unique culinary traditions, influenced by local ingredients and cultural preferences. Some of the most popular Indian dishes include biryani, curry, samosa, dosa, and naan.\n",
      "\n",
      "8. **Arts and Entertainment:** India has a vibrant arts and entertainment scene. Bollywood, the Hindi film industry based in Mumbai, is the largest film industry in the world in terms of annual film output. Indian music, dance, and theater also have a rich history and continue to thrive in the country.\n",
      "\n",
      "9. **Sports:** Cricket is the most popular sport in India, with millions of fans following the national team's performances in international tournaments. Other popular sports include hockey, football, badminton, and kabaddi.\n",
      "\n",
      "10. **Challenges:** Despite its economic growth and cultural diversity, India faces several challenges, including poverty, inequality, corruption, and environmental issues. The country is also grappling with the impact of climate change, which poses significant threats to its agriculture, water resources, and coastal areas.\n"
     ]
    }
   ],
   "source": [
    "config = genai.types.GenerationConfig(top_k=40)\n",
    "result = get_response(\"Tell me about India\",\n",
    "                      generation_config=config)\n",
    "print(result.text)"
   ]
  },
  {
   "cell_type": "markdown",
   "id": "6532d2ef-bdbc-43b3-969d-237656bb618a",
   "metadata": {
    "tags": []
   },
   "source": [
    "### top_p\n",
    "\n",
    "The `top_p` parameter, akin to `top_k`, modifies the token selection process. It considers tokens from the most to least probable, cumulatively, until their probabilities match the `top_p` value. The model then selects the next token within this subset, guided by the `temperature` parameter:\n",
    "\n",
    "- **Lower `top_p` values** lead to more predictable responses.\n",
    "- **Higher `top_p` values** permit a wider array of potential responses, injecting randomness.\n",
    "\n",
    "  - **Range**: `0.0 - 1.0`\n",
    "  - **Default**: `1.0`\n"
   ]
  },
  {
   "cell_type": "code",
   "execution_count": 46,
   "id": "ebe4d065-b737-44ad-b3a2-c9174f73dae6",
   "metadata": {},
   "outputs": [
    {
     "name": "stdout",
     "output_type": "stream",
     "text": [
      "India, officially the Republic of India, is a country in South Asia. It is the second-most populous country in the world, with over 1.4 billion people, and the seventh-largest country by land area, spanning 3.287 million square kilometers (1.269 million square miles). India is bordered by Pakistan to the west; China, Nepal, and Bhutan to the north; and Bangladesh and Myanmar to the east. The Indian Ocean lies to the south, with the Arabian Sea to the southwest and the Bay of Bengal to the southeast.\n",
      "\n",
      "India is a diverse country, with a rich history and culture. It is home to a wide variety of languages, religions, and ethnic groups. The official languages of India are Hindi and English, but there are 22 other languages that are recognized as official languages in different states. India is also home to a number of major religions, including Hinduism, Islam, Christianity, Sikhism, Buddhism, and Jainism.\n",
      "\n",
      "India has a long and complex history. The first civilizations in India date back to the Indus Valley Civilization, which flourished between 2500 and 1900 BCE. The Indus Valley Civilization was one of the world's earliest civilizations, and it is believed to have been the birthplace of Hinduism. In the centuries that followed, India was ruled by a number of different empires, including the Mauryan Empire, the Gupta Empire, and the Mughal Empire.\n",
      "\n",
      "In the 18th century, India became a colony of the British Empire. The British ruled India for over 200 years, and their rule had a profound impact on the country. The British introduced a number of new technologies and institutions to India, and they also helped to spread the English language. However, British rule also led to a number of problems, including poverty, inequality, and discrimination.\n",
      "\n",
      "India gained independence from the British in 1947. After independence, India adopted a democratic constitution and became a republic. The country has since made significant progress in a number of areas, including economic development, education, and healthcare. However, India still faces a number of challenges, including poverty, inequality, and corruption.\n",
      "\n",
      "India is a land of contrasts. It is a country of great beauty and diversity, but it is also a country of poverty and inequality. India is a country with a rich history and culture, but it is also a country that is still struggling to overcome the challenges of the past.\n",
      "\n",
      "Here are some additional facts about India:\n",
      "\n",
      "* Capital: New Delhi\n",
      "* Population: 1.4 billion (2023 est.)\n",
      "* Area: 3.287 million square kilometers (1.269 million square miles)\n",
      "* Official languages: Hindi and English\n",
      "* Major religions: Hinduism, Islam, Christianity, Sikhism, Buddhism, and Jainism\n",
      "* Currency: Indian rupee (INR)\n",
      "* Time zone: Indian Standard Time (IST) (UTC+5:30)\n",
      "* Independence day: August 15, 1947\n",
      "* National anthem: \"Jana Gana Mana\"\n",
      "* National flag: The tricolor flag of India consists of three horizontal stripes of equal width. The top stripe is saffron, the middle stripe is white, and the bottom stripe is green. A navy blue wheel with 24 spokes is centered on the white stripe. The wheel is known as the Ashoka Chakra, and it is a symbol of progress and prosperity.\n"
     ]
    }
   ],
   "source": [
    "config = genai.types.GenerationConfig(top_p=0)\n",
    "result = get_response(\"Tell me about India\",\n",
    "                      generation_config=config)\n",
    "print(result.text)"
   ]
  },
  {
   "cell_type": "code",
   "execution_count": 47,
   "id": "f54cb73a-523e-479e-b502-56e8faf6418d",
   "metadata": {},
   "outputs": [
    {
     "name": "stdout",
     "output_type": "stream",
     "text": [
      "1. History and Culture:\n",
      "   - India's history dates back thousands of years, with evidence of early civilizations and rich cultural traditions.\n",
      "   - India is a diverse nation with a blend of various cultures, languages, religions, and ethnicities, contributing to its vibrant cultural tapestry.\n",
      "   - Significant historical events include the Indus Valley Civilization, Mughal Empire, British colonial rule, and the nonviolent independence movement led by Mahatma Gandhi.\n",
      "   - India's cultural heritage is renowned for its diverse art forms, music, dance, literature, and architectural wonders like the Taj Mahal and iconic Hindu temples.\n",
      "\n",
      "2. Geography and Environment:\n",
      "   - India occupies a vast area in South Asia, with diverse landscapes ranging from snow-capped mountains to fertile river valleys, deserts, coastal plains, and tropical rainforests.\n",
      "   - The Himalayan mountain range stretches along India's northern borders, including the world's highest peak, Mount Everest.\n",
      "   - Major rivers like the Ganges, Indus, and Brahmaputra flow through the country, shaping its geography and agricultural practices.\n",
      "   - India's rich biodiversity includes diverse flora and fauna, with protected areas and national parks showcasing its natural heritage.\n",
      "\n",
      "3. Economy and Infrastructure:\n",
      "   - India is a rapidly developing country with a large and diverse economy, ranked among the world's largest.\n",
      "   - The IT and services sector plays a significant role, with major technology companies headquartered in cities like Bengaluru and Hyderabad.\n",
      "   - Agriculture remains a vital sector, with crops like rice, wheat, and cotton being important staples.\n",
      "   - Infrastructure is improving, with investments in highways, railways, and airports to enhance connectivity within the country and to international destinations.\n",
      "\n",
      "4. Population and Demographics:\n",
      "   - India is the second most populous country in the world, with a population of over 1.4 billion people.\n",
      "   - The population is diverse, with multiple ethnic groups, languages, and religions coexisting.\n",
      "   - Major languages include Hindi, English, Bengali, Telugu, Marathi, Tamil, and Gujarati, among many others.\n",
      "   - India's demographic profile is changing, with a growing middle class and an increasing urban population.\n",
      "\n",
      "5. Foreign Relations and Diplomacy:\n",
      "   - India has a significant role in international affairs and maintains diplomatic relations with countries worldwide.\n",
      "   - It is a member of various international organizations, including the United Nations, the World Bank, and the World Trade Organization.\n",
      "   - India's foreign policy focuses on regional cooperation, economic partnerships, and global security issues.\n",
      "\n",
      "6. Tourism and Cultural Exchange:\n",
      "   - India attracts tourists from around the world, drawn to its cultural heritage, natural beauty, and spiritual significance.\n",
      "   - Iconic destinations include the Taj Mahal, the Ganges River, the Thar Desert, and the mountain ranges of the Himalayas.\n",
      "   - Cultural exchange programs and festivals promote understanding and appreciation of India's diverse traditions and arts.\n",
      "\n",
      "7. Challenges and Opportunities:\n",
      "   - India is faced with several challenges, including poverty, income inequality, environmental issues, and a large population to provide for.\n",
      "   - However, the country also has opportunities for growth, such as a skilled workforce, a growing economy, and extensive natural resources.\n",
      "   - Addressing these challenges and leveraging the opportunities will be crucial for India's continued progress and prosperity.\n"
     ]
    }
   ],
   "source": [
    "config = genai.types.GenerationConfig(top_p=1)\n",
    "result = get_response(\"Tell me about India\",\n",
    "                      generation_config=config)\n",
    "print(result.text)"
   ]
  },
  {
   "cell_type": "markdown",
   "id": "7cefa648-7726-4128-bc4d-684e5c74c708",
   "metadata": {
    "tags": []
   },
   "source": [
    "### candidate_count\n",
    "\n",
    "The `candidate_count` parameter determines the quantity of different response variations the model generates. For Gemini LLM, this value is fixed:\n",
    "\n",
    "- **Required Value**: `1`\n",
    "\n",
    "**IMPORTANT NOTE: AT THIS TIME, YOU ARE ONLY ALLOWED ONE CANDIDATE, BUT CHECK THE OFFICIAL DOCS FOR AN UPDATE IN THE FUTURE!**\n"
   ]
  },
  {
   "cell_type": "code",
   "execution_count": 48,
   "id": "78cb6f8b-b3bc-44b2-b486-776155c12a6c",
   "metadata": {},
   "outputs": [
    {
     "name": "stdout",
     "output_type": "stream",
     "text": [
      "1. **Population:** India is the second most populous country in the world, with a population of over 1.4 billion people. This makes it home to over 17% of the world's population, and is projected to surpass China as the most populous country by 2027.\n",
      "\n",
      "2. **Cultural Diversity:** India is a land of immense cultural diversity, with over 22 official languages and hundreds of dialects spoken throughout the country. It is home to a wide variety of religions, including Hinduism, Islam, Christianity, Sikhism, Buddhism, and Jainism, and is known for its vibrant festivals and traditions.\n",
      "\n",
      "3. **Economic Growth:** India has experienced rapid economic growth in recent decades, becoming one of the fastest-growing major economies in the world. This growth has been driven by a combination of factors, including a young and skilled workforce, a growing middle class, and a favorable investment climate.\n"
     ]
    }
   ],
   "source": [
    "config = genai.types.GenerationConfig(candidate_count=1)\n",
    "result = get_response(\n",
    "    \"Give me 3 top facts about India\", generation_config=config)\n",
    "print(result.text)"
   ]
  },
  {
   "cell_type": "markdown",
   "id": "d20d3853-559d-453a-a4eb-733cfc3de717",
   "metadata": {
    "tags": []
   },
   "source": [
    "### stop_sequences\n",
    "\n",
    "`stop_sequences` is a feature allowing the specification of strings that prompt the model to cease text generation. The response is truncated at the first occurrence of any listed string. This feature is sensitive to the case of the strings:\n",
    "\n",
    "- **Usage Example**: If \"Str\" and \"reverse\" are in `stop_sequences`, the model stops generating text at their first appearance.\n",
    "- **Limitation**: A maximum of 5 strings can be listed in `stop_sequences`.\n"
   ]
  },
  {
   "cell_type": "code",
   "execution_count": 49,
   "id": "baa947c9-b778-4c66-a64c-528f1c15d91b",
   "metadata": {},
   "outputs": [
    {
     "name": "stdout",
     "output_type": "stream",
     "text": [
      "* A\n",
      "* B\n",
      "* C\n",
      "* D\n",
      "* E\n",
      "* F\n",
      "* G\n",
      "* H\n",
      "* I\n",
      "* J\n",
      "* K\n",
      "* L\n",
      "* M\n",
      "* N\n",
      "* O\n",
      "* P\n",
      "* Q\n",
      "* R\n",
      "* S\n",
      "* T\n",
      "* U\n",
      "* V\n",
      "* W\n",
      "* \n"
     ]
    }
   ],
   "source": [
    "config = genai.types.GenerationConfig(stop_sequences=['x', 'X'])\n",
    "result = get_response(\n",
    "    \"Give me a list of all the letters in the alphabet\", generation_config=config)\n",
    "print(result.text)"
   ]
  },
  {
   "cell_type": "code",
   "execution_count": 50,
   "id": "88e251c2-53a4-4b10-8e18-d9bad02b241d",
   "metadata": {},
   "outputs": [
    {
     "name": "stdout",
     "output_type": "stream",
     "text": [
      "Subject: Thank you for reaching out\n",
      "\n",
      "Dear [Customer Name],\n",
      "\n",
      "Thank you for taking the time to reach out to us. We appreciate your feedback and we are committed to providing you with the best possible service.\n",
      "\n",
      "We have received your message and we will be in touch with you shortly to address your concerns. In the meantime, please feel free to browse our website or contact us by phone if you have any other questions.\n",
      "\n",
      "We value your business and we are here to help you in any way we can.\n",
      "\n",
      "Sincerely,\n",
      "[Your Name]\n"
     ]
    }
   ],
   "source": [
    "config = genai.types.GenerationConfig(stop_sequences=[])\n",
    "result = get_response(\n",
    "    \"Write a customer support email thanking the customer for reaching out. End it with 'Sincerely'\", generation_config=config)\n",
    "print(result.text)"
   ]
  },
  {
   "cell_type": "code",
   "execution_count": 51,
   "id": "6e7d882c-0aa0-445e-88ea-41f39bec4c77",
   "metadata": {},
   "outputs": [
    {
     "name": "stdout",
     "output_type": "stream",
     "text": [
      "Subject: Thank you for reaching out to us!\n",
      "\n",
      "Dear [Customer Name],\n",
      "\n",
      "Thank you for taking the time to reach out to our customer support team regarding [Brief Description of Issue Reported by the Customer]. We greatly appreciate your feedback and concerns, and we will be happy to assist you in any way we can.\n",
      "\n",
      "Our team of experts is dedicated to providing the best possible customer service and resolving any issue you may have in a timely and efficient manner. We will thoroughly investigate the matter and work towards finding a suitable solution that meets your expectations.\n",
      "\n",
      "In the meantime, we kindly request you to provide us with any additional details or information that may be relevant to the issue. This will help us better understand the situation and take appropriate action.\n",
      "\n",
      "We value your trust in our products and services, and we are committed to ensuring your complete satisfaction. Please be assured that we will do our utmost to address your concerns and provide you with the best possible assistance.\n",
      "\n",
      "Thank you once again for reaching out to us. We appreciate your patience and cooperation while we work towards resolving this issue.\n",
      "\n",
      "\n"
     ]
    }
   ],
   "source": [
    "config = genai.types.GenerationConfig(stop_sequences=['Sincerely'])\n",
    "result = get_response(\n",
    "    \"Write a customer support email thanking the customer for reaching out. End it with 'Sincerely'\", generation_config=config)\n",
    "print(result.text)"
   ]
  },
  {
   "cell_type": "code",
   "execution_count": null,
   "id": "2bd1f565-0cbe-4909-b4ab-14773ac1234a",
   "metadata": {},
   "outputs": [],
   "source": []
  }
 ],
 "metadata": {
  "kernelspec": {
   "display_name": "Python 3 (ipykernel)",
   "language": "python",
   "name": "python3"
  },
  "language_info": {
   "codemirror_mode": {
    "name": "ipython",
    "version": 3
   },
   "file_extension": ".py",
   "mimetype": "text/x-python",
   "name": "python",
   "nbconvert_exporter": "python",
   "pygments_lexer": "ipython3",
   "version": "3.10.4"
  }
 },
 "nbformat": 4,
 "nbformat_minor": 5
}
